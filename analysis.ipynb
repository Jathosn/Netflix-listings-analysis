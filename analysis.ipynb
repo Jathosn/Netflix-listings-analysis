{
 "cells": [
  {
   "cell_type": "markdown",
   "id": "78d3e08d-3c2b-419e-aaa7-1dffa911875c",
   "metadata": {},
   "source": [
    "## Package installation and imports\n",
    "\n",
    "Unless these packages have already been installed, run `conda install pandas numpy matplotlib` in a new cell below.\n",
    "\n",
    "**Note:** First time installation may take a few minutes, depending on your hardware. When complete, rerun to verify that the install was successful."
   ]
  },
  {
   "cell_type": "code",
   "execution_count": 2,
   "id": "4993da78-2004-4dde-9baa-ca71c25bcab0",
   "metadata": {
    "tags": []
   },
   "outputs": [
    {
     "name": "stdout",
     "output_type": "stream",
     "text": [
      "<class 'pandas.core.frame.DataFrame'>\n",
      "RangeIndex: 8807 entries, 0 to 8806\n",
      "Data columns (total 12 columns):\n",
      " #   Column        Non-Null Count  Dtype \n",
      "---  ------        --------------  ----- \n",
      " 0   show_id       8807 non-null   object\n",
      " 1   type          8807 non-null   object\n",
      " 2   title         8807 non-null   object\n",
      " 3   director      6173 non-null   object\n",
      " 4   cast          7982 non-null   object\n",
      " 5   country       7976 non-null   object\n",
      " 6   date_added    8797 non-null   object\n",
      " 7   release_year  8807 non-null   int64 \n",
      " 8   rating        8803 non-null   object\n",
      " 9   duration      8804 non-null   object\n",
      " 10  listed_in     8807 non-null   object\n",
      " 11  description   8807 non-null   object\n",
      "dtypes: int64(1), object(11)\n",
      "memory usage: 825.8+ KB\n"
     ]
    }
   ],
   "source": [
    "import pandas as pd\n",
    "import numpy as np\n",
    "import matplotlib.pyplot as plt\n",
    "\n",
    "pd.options.mode.chained_assignment = None\n",
    "\n",
    "path = \"data.csv\"\n",
    "dataset = pd.read_csv(path)\n",
    "dataset.info()"
   ]
  },
  {
   "cell_type": "markdown",
   "id": "417e30c0-0baa-49b3-befe-97255c801e41",
   "metadata": {},
   "source": [
    "## Data overview\n",
    "\n",
    "Looking at this data, there seems to be many possibilities here to draw meaningful insights.\n",
    "\n",
    "Some data I would like to investigate further and that I think could aid in producing meaningful insight are:\n",
    "\n",
    "- Additions over time\n",
    "- Looking deeper into the distribution of production countries for existing content\n",
    "- Content type\n",
    "- Content rating\n",
    "- Content genres\n",
    "- Duration\n",
    "- Changes in all the above over time.\n",
    "\n",
    "Knowing there is a fair bit of data missing, we'll have to clean our dataset before proceeding to our analysis. We also have to ensure that our data is correctly entered so that can be sure we don't have data fields that will skew any projection we'll later be making."
   ]
  },
  {
   "cell_type": "markdown",
   "id": "5f3f1678-4548-48ba-bc39-aba66b060785",
   "metadata": {},
   "source": [
    "# Data processing\n",
    "We begin by filtering for and filling out missing values wherever it seems reasonable to do so. "
   ]
  },
  {
   "cell_type": "code",
   "execution_count": 3,
   "id": "43d4c8bd-5ebb-402a-8b32-3643be6faa5a",
   "metadata": {
    "tags": []
   },
   "outputs": [
    {
     "data": {
      "text/plain": [
       "show_id            0\n",
       "type               0\n",
       "title              0\n",
       "director        2634\n",
       "cast             825\n",
       "country          831\n",
       "date_added        10\n",
       "release_year       0\n",
       "rating             4\n",
       "duration           3\n",
       "listed_in          0\n",
       "description        0\n",
       "dtype: int64"
      ]
     },
     "execution_count": 3,
     "metadata": {},
     "output_type": "execute_result"
    }
   ],
   "source": [
    " dataset.isna().sum()"
   ]
  },
  {
   "cell_type": "markdown",
   "id": "463fdd62-8ffb-42eb-b5c6-84fbe15da1ce",
   "metadata": {},
   "source": [
    "We beghin with filling in the empty rows for the `director`, `cast` and `country` columns, before investigating the `date_added`, `rating` and `duration` columns further. \n",
    "\n",
    "There being so few missing fields of data for these rows might indicate that something else is wrong, so let's investigate."
   ]
  },
  {
   "cell_type": "code",
   "execution_count": 4,
   "id": "25de0e61-3b52-4cbd-a9da-f35de6a3c9ed",
   "metadata": {
    "tags": []
   },
   "outputs": [
    {
     "data": {
      "text/plain": [
       "show_id          0\n",
       "type             0\n",
       "title            0\n",
       "director         0\n",
       "cast             0\n",
       "country          0\n",
       "date_added      10\n",
       "release_year     0\n",
       "rating           4\n",
       "duration         3\n",
       "listed_in        0\n",
       "description      0\n",
       "dtype: int64"
      ]
     },
     "execution_count": 4,
     "metadata": {},
     "output_type": "execute_result"
    }
   ],
   "source": [
    "dataset.director = dataset.director.fillna(\"missing data\")\n",
    "dataset.cast = dataset.cast.fillna(\"missing data\")\n",
    "dataset.country = dataset.country.fillna(\"missing data\")\n",
    "dataset.isna().sum()"
   ]
  },
  {
   "cell_type": "code",
   "execution_count": 5,
   "id": "397ddc7c-93a9-427a-b21f-2369dd8b93a7",
   "metadata": {
    "tags": []
   },
   "outputs": [
    {
     "data": {
      "text/html": [
       "<div>\n",
       "<style scoped>\n",
       "    .dataframe tbody tr th:only-of-type {\n",
       "        vertical-align: middle;\n",
       "    }\n",
       "\n",
       "    .dataframe tbody tr th {\n",
       "        vertical-align: top;\n",
       "    }\n",
       "\n",
       "    .dataframe thead th {\n",
       "        text-align: right;\n",
       "    }\n",
       "</style>\n",
       "<table border=\"1\" class=\"dataframe\">\n",
       "  <thead>\n",
       "    <tr style=\"text-align: right;\">\n",
       "      <th></th>\n",
       "      <th>show_id</th>\n",
       "      <th>type</th>\n",
       "      <th>title</th>\n",
       "      <th>director</th>\n",
       "      <th>cast</th>\n",
       "      <th>country</th>\n",
       "      <th>date_added</th>\n",
       "      <th>release_year</th>\n",
       "      <th>rating</th>\n",
       "      <th>duration</th>\n",
       "      <th>listed_in</th>\n",
       "      <th>description</th>\n",
       "    </tr>\n",
       "  </thead>\n",
       "  <tbody>\n",
       "    <tr>\n",
       "      <th>6066</th>\n",
       "      <td>s6067</td>\n",
       "      <td>TV Show</td>\n",
       "      <td>A Young Doctor's Notebook and Other Stories</td>\n",
       "      <td>missing data</td>\n",
       "      <td>Daniel Radcliffe, Jon Hamm, Adam Godley, Chris...</td>\n",
       "      <td>United Kingdom</td>\n",
       "      <td>NaN</td>\n",
       "      <td>2013</td>\n",
       "      <td>TV-MA</td>\n",
       "      <td>2 Seasons</td>\n",
       "      <td>British TV Shows, TV Comedies, TV Dramas</td>\n",
       "      <td>Set during the Russian Revolution, this comic ...</td>\n",
       "    </tr>\n",
       "    <tr>\n",
       "      <th>6174</th>\n",
       "      <td>s6175</td>\n",
       "      <td>TV Show</td>\n",
       "      <td>Anthony Bourdain: Parts Unknown</td>\n",
       "      <td>missing data</td>\n",
       "      <td>Anthony Bourdain</td>\n",
       "      <td>United States</td>\n",
       "      <td>NaN</td>\n",
       "      <td>2018</td>\n",
       "      <td>TV-PG</td>\n",
       "      <td>5 Seasons</td>\n",
       "      <td>Docuseries</td>\n",
       "      <td>This CNN original series has chef Anthony Bour...</td>\n",
       "    </tr>\n",
       "    <tr>\n",
       "      <th>6795</th>\n",
       "      <td>s6796</td>\n",
       "      <td>TV Show</td>\n",
       "      <td>Frasier</td>\n",
       "      <td>missing data</td>\n",
       "      <td>Kelsey Grammer, Jane Leeves, David Hyde Pierce...</td>\n",
       "      <td>United States</td>\n",
       "      <td>NaN</td>\n",
       "      <td>2003</td>\n",
       "      <td>TV-PG</td>\n",
       "      <td>11 Seasons</td>\n",
       "      <td>Classic &amp; Cult TV, TV Comedies</td>\n",
       "      <td>Frasier Crane is a snooty but lovable Seattle ...</td>\n",
       "    </tr>\n",
       "    <tr>\n",
       "      <th>6806</th>\n",
       "      <td>s6807</td>\n",
       "      <td>TV Show</td>\n",
       "      <td>Friends</td>\n",
       "      <td>missing data</td>\n",
       "      <td>Jennifer Aniston, Courteney Cox, Lisa Kudrow, ...</td>\n",
       "      <td>United States</td>\n",
       "      <td>NaN</td>\n",
       "      <td>2003</td>\n",
       "      <td>TV-14</td>\n",
       "      <td>10 Seasons</td>\n",
       "      <td>Classic &amp; Cult TV, TV Comedies</td>\n",
       "      <td>This hit sitcom follows the merry misadventure...</td>\n",
       "    </tr>\n",
       "    <tr>\n",
       "      <th>6901</th>\n",
       "      <td>s6902</td>\n",
       "      <td>TV Show</td>\n",
       "      <td>Gunslinger Girl</td>\n",
       "      <td>missing data</td>\n",
       "      <td>Yuuka Nanri, Kanako Mitsuhashi, Eri Sendai, Am...</td>\n",
       "      <td>Japan</td>\n",
       "      <td>NaN</td>\n",
       "      <td>2008</td>\n",
       "      <td>TV-14</td>\n",
       "      <td>2 Seasons</td>\n",
       "      <td>Anime Series, Crime TV Shows</td>\n",
       "      <td>On the surface, the Social Welfare Agency appe...</td>\n",
       "    </tr>\n",
       "    <tr>\n",
       "      <th>7196</th>\n",
       "      <td>s7197</td>\n",
       "      <td>TV Show</td>\n",
       "      <td>Kikoriki</td>\n",
       "      <td>missing data</td>\n",
       "      <td>Igor Dmitriev</td>\n",
       "      <td>missing data</td>\n",
       "      <td>NaN</td>\n",
       "      <td>2010</td>\n",
       "      <td>TV-Y</td>\n",
       "      <td>2 Seasons</td>\n",
       "      <td>Kids' TV</td>\n",
       "      <td>A wacky rabbit and his gang of animal pals hav...</td>\n",
       "    </tr>\n",
       "    <tr>\n",
       "      <th>7254</th>\n",
       "      <td>s7255</td>\n",
       "      <td>TV Show</td>\n",
       "      <td>La Familia P. Luche</td>\n",
       "      <td>missing data</td>\n",
       "      <td>Eugenio Derbez, Consuelo Duval, Luis Manuel Áv...</td>\n",
       "      <td>United States</td>\n",
       "      <td>NaN</td>\n",
       "      <td>2012</td>\n",
       "      <td>TV-14</td>\n",
       "      <td>3 Seasons</td>\n",
       "      <td>International TV Shows, Spanish-Language TV Sh...</td>\n",
       "      <td>This irreverent sitcom featues Ludovico, Feder...</td>\n",
       "    </tr>\n",
       "    <tr>\n",
       "      <th>7406</th>\n",
       "      <td>s7407</td>\n",
       "      <td>TV Show</td>\n",
       "      <td>Maron</td>\n",
       "      <td>missing data</td>\n",
       "      <td>Marc Maron, Judd Hirsch, Josh Brener, Nora Zeh...</td>\n",
       "      <td>United States</td>\n",
       "      <td>NaN</td>\n",
       "      <td>2016</td>\n",
       "      <td>TV-MA</td>\n",
       "      <td>4 Seasons</td>\n",
       "      <td>TV Comedies</td>\n",
       "      <td>Marc Maron stars as Marc Maron, who interviews...</td>\n",
       "    </tr>\n",
       "    <tr>\n",
       "      <th>7847</th>\n",
       "      <td>s7848</td>\n",
       "      <td>TV Show</td>\n",
       "      <td>Red vs. Blue</td>\n",
       "      <td>missing data</td>\n",
       "      <td>Burnie Burns, Jason Saldaña, Gustavo Sorola, G...</td>\n",
       "      <td>United States</td>\n",
       "      <td>NaN</td>\n",
       "      <td>2015</td>\n",
       "      <td>NR</td>\n",
       "      <td>13 Seasons</td>\n",
       "      <td>TV Action &amp; Adventure, TV Comedies, TV Sci-Fi ...</td>\n",
       "      <td>This parody of first-person shooter games, mil...</td>\n",
       "    </tr>\n",
       "    <tr>\n",
       "      <th>8182</th>\n",
       "      <td>s8183</td>\n",
       "      <td>TV Show</td>\n",
       "      <td>The Adventures of Figaro Pho</td>\n",
       "      <td>missing data</td>\n",
       "      <td>Luke Jurevicius, Craig Behenna, Charlotte Haml...</td>\n",
       "      <td>Australia</td>\n",
       "      <td>NaN</td>\n",
       "      <td>2015</td>\n",
       "      <td>TV-Y7</td>\n",
       "      <td>2 Seasons</td>\n",
       "      <td>Kids' TV, TV Comedies</td>\n",
       "      <td>Imagine your worst fears, then multiply them: ...</td>\n",
       "    </tr>\n",
       "  </tbody>\n",
       "</table>\n",
       "</div>"
      ],
      "text/plain": [
       "     show_id     type                                        title  \\\n",
       "6066   s6067  TV Show  A Young Doctor's Notebook and Other Stories   \n",
       "6174   s6175  TV Show              Anthony Bourdain: Parts Unknown   \n",
       "6795   s6796  TV Show                                      Frasier   \n",
       "6806   s6807  TV Show                                      Friends   \n",
       "6901   s6902  TV Show                              Gunslinger Girl   \n",
       "7196   s7197  TV Show                                     Kikoriki   \n",
       "7254   s7255  TV Show                          La Familia P. Luche   \n",
       "7406   s7407  TV Show                                        Maron   \n",
       "7847   s7848  TV Show                                 Red vs. Blue   \n",
       "8182   s8183  TV Show                 The Adventures of Figaro Pho   \n",
       "\n",
       "          director                                               cast  \\\n",
       "6066  missing data  Daniel Radcliffe, Jon Hamm, Adam Godley, Chris...   \n",
       "6174  missing data                                   Anthony Bourdain   \n",
       "6795  missing data  Kelsey Grammer, Jane Leeves, David Hyde Pierce...   \n",
       "6806  missing data  Jennifer Aniston, Courteney Cox, Lisa Kudrow, ...   \n",
       "6901  missing data  Yuuka Nanri, Kanako Mitsuhashi, Eri Sendai, Am...   \n",
       "7196  missing data                                      Igor Dmitriev   \n",
       "7254  missing data  Eugenio Derbez, Consuelo Duval, Luis Manuel Áv...   \n",
       "7406  missing data  Marc Maron, Judd Hirsch, Josh Brener, Nora Zeh...   \n",
       "7847  missing data  Burnie Burns, Jason Saldaña, Gustavo Sorola, G...   \n",
       "8182  missing data  Luke Jurevicius, Craig Behenna, Charlotte Haml...   \n",
       "\n",
       "             country date_added  release_year rating    duration  \\\n",
       "6066  United Kingdom        NaN          2013  TV-MA   2 Seasons   \n",
       "6174   United States        NaN          2018  TV-PG   5 Seasons   \n",
       "6795   United States        NaN          2003  TV-PG  11 Seasons   \n",
       "6806   United States        NaN          2003  TV-14  10 Seasons   \n",
       "6901           Japan        NaN          2008  TV-14   2 Seasons   \n",
       "7196    missing data        NaN          2010   TV-Y   2 Seasons   \n",
       "7254   United States        NaN          2012  TV-14   3 Seasons   \n",
       "7406   United States        NaN          2016  TV-MA   4 Seasons   \n",
       "7847   United States        NaN          2015     NR  13 Seasons   \n",
       "8182       Australia        NaN          2015  TV-Y7   2 Seasons   \n",
       "\n",
       "                                              listed_in  \\\n",
       "6066           British TV Shows, TV Comedies, TV Dramas   \n",
       "6174                                         Docuseries   \n",
       "6795                     Classic & Cult TV, TV Comedies   \n",
       "6806                     Classic & Cult TV, TV Comedies   \n",
       "6901                       Anime Series, Crime TV Shows   \n",
       "7196                                           Kids' TV   \n",
       "7254  International TV Shows, Spanish-Language TV Sh...   \n",
       "7406                                        TV Comedies   \n",
       "7847  TV Action & Adventure, TV Comedies, TV Sci-Fi ...   \n",
       "8182                              Kids' TV, TV Comedies   \n",
       "\n",
       "                                            description  \n",
       "6066  Set during the Russian Revolution, this comic ...  \n",
       "6174  This CNN original series has chef Anthony Bour...  \n",
       "6795  Frasier Crane is a snooty but lovable Seattle ...  \n",
       "6806  This hit sitcom follows the merry misadventure...  \n",
       "6901  On the surface, the Social Welfare Agency appe...  \n",
       "7196  A wacky rabbit and his gang of animal pals hav...  \n",
       "7254  This irreverent sitcom featues Ludovico, Feder...  \n",
       "7406  Marc Maron stars as Marc Maron, who interviews...  \n",
       "7847  This parody of first-person shooter games, mil...  \n",
       "8182  Imagine your worst fears, then multiply them: ...  "
      ]
     },
     "execution_count": 5,
     "metadata": {},
     "output_type": "execute_result"
    }
   ],
   "source": [
    "dataset.iloc[np.where(dataset.date_added.isna())]"
   ]
  },
  {
   "cell_type": "markdown",
   "id": "3a9b0895-3409-443e-bcc7-bccab9bc3a71",
   "metadata": {},
   "source": [
    "Looking over `date_added` we can tell that its values are simply missing. In addition, that the values to the right and left for it does not appear to have accidentally received its value.\n",
    "\n",
    "We'll therefore assign these elements with the `missing value` string. before doing the same check on the final two columns."
   ]
  },
  {
   "cell_type": "code",
   "execution_count": 6,
   "id": "5f525980-e4ae-416c-8d18-a68b9621dbf3",
   "metadata": {
    "tags": []
   },
   "outputs": [],
   "source": [
    "dataset.date_added.iloc[np.where(dataset.date_added.isna())] = \"missing data\""
   ]
  },
  {
   "cell_type": "code",
   "execution_count": 7,
   "id": "37646dff-9492-45cd-ab4f-ca8265098224",
   "metadata": {
    "tags": []
   },
   "outputs": [
    {
     "data": {
      "text/html": [
       "<div>\n",
       "<style scoped>\n",
       "    .dataframe tbody tr th:only-of-type {\n",
       "        vertical-align: middle;\n",
       "    }\n",
       "\n",
       "    .dataframe tbody tr th {\n",
       "        vertical-align: top;\n",
       "    }\n",
       "\n",
       "    .dataframe thead th {\n",
       "        text-align: right;\n",
       "    }\n",
       "</style>\n",
       "<table border=\"1\" class=\"dataframe\">\n",
       "  <thead>\n",
       "    <tr style=\"text-align: right;\">\n",
       "      <th></th>\n",
       "      <th>show_id</th>\n",
       "      <th>type</th>\n",
       "      <th>title</th>\n",
       "      <th>director</th>\n",
       "      <th>cast</th>\n",
       "      <th>country</th>\n",
       "      <th>date_added</th>\n",
       "      <th>release_year</th>\n",
       "      <th>rating</th>\n",
       "      <th>duration</th>\n",
       "      <th>listed_in</th>\n",
       "      <th>description</th>\n",
       "    </tr>\n",
       "  </thead>\n",
       "  <tbody>\n",
       "    <tr>\n",
       "      <th>5989</th>\n",
       "      <td>s5990</td>\n",
       "      <td>Movie</td>\n",
       "      <td>13TH: A Conversation with Oprah Winfrey &amp; Ava ...</td>\n",
       "      <td>missing data</td>\n",
       "      <td>Oprah Winfrey, Ava DuVernay</td>\n",
       "      <td>missing data</td>\n",
       "      <td>January 26, 2017</td>\n",
       "      <td>2017</td>\n",
       "      <td>NaN</td>\n",
       "      <td>37 min</td>\n",
       "      <td>Movies</td>\n",
       "      <td>Oprah Winfrey sits down with director Ava DuVe...</td>\n",
       "    </tr>\n",
       "    <tr>\n",
       "      <th>6827</th>\n",
       "      <td>s6828</td>\n",
       "      <td>TV Show</td>\n",
       "      <td>Gargantia on the Verdurous Planet</td>\n",
       "      <td>missing data</td>\n",
       "      <td>Kaito Ishikawa, Hisako Kanemoto, Ai Kayano, Ka...</td>\n",
       "      <td>Japan</td>\n",
       "      <td>December 1, 2016</td>\n",
       "      <td>2013</td>\n",
       "      <td>NaN</td>\n",
       "      <td>1 Season</td>\n",
       "      <td>Anime Series, International TV Shows</td>\n",
       "      <td>After falling through a wormhole, a space-dwel...</td>\n",
       "    </tr>\n",
       "    <tr>\n",
       "      <th>7312</th>\n",
       "      <td>s7313</td>\n",
       "      <td>TV Show</td>\n",
       "      <td>Little Lunch</td>\n",
       "      <td>missing data</td>\n",
       "      <td>Flynn Curry, Olivia Deeble, Madison Lu, Oisín ...</td>\n",
       "      <td>Australia</td>\n",
       "      <td>February 1, 2018</td>\n",
       "      <td>2015</td>\n",
       "      <td>NaN</td>\n",
       "      <td>1 Season</td>\n",
       "      <td>Kids' TV, TV Comedies</td>\n",
       "      <td>Adopting a child's perspective, this show take...</td>\n",
       "    </tr>\n",
       "    <tr>\n",
       "      <th>7537</th>\n",
       "      <td>s7538</td>\n",
       "      <td>Movie</td>\n",
       "      <td>My Honor Was Loyalty</td>\n",
       "      <td>Alessandro Pepe</td>\n",
       "      <td>Leone Frisa, Paolo Vaccarino, Francesco Miglio...</td>\n",
       "      <td>Italy</td>\n",
       "      <td>March 1, 2017</td>\n",
       "      <td>2015</td>\n",
       "      <td>NaN</td>\n",
       "      <td>115 min</td>\n",
       "      <td>Dramas</td>\n",
       "      <td>Amid the chaos and horror of World War II, a c...</td>\n",
       "    </tr>\n",
       "  </tbody>\n",
       "</table>\n",
       "</div>"
      ],
      "text/plain": [
       "     show_id     type                                              title  \\\n",
       "5989   s5990    Movie  13TH: A Conversation with Oprah Winfrey & Ava ...   \n",
       "6827   s6828  TV Show                  Gargantia on the Verdurous Planet   \n",
       "7312   s7313  TV Show                                       Little Lunch   \n",
       "7537   s7538    Movie                               My Honor Was Loyalty   \n",
       "\n",
       "             director                                               cast  \\\n",
       "5989     missing data                        Oprah Winfrey, Ava DuVernay   \n",
       "6827     missing data  Kaito Ishikawa, Hisako Kanemoto, Ai Kayano, Ka...   \n",
       "7312     missing data  Flynn Curry, Olivia Deeble, Madison Lu, Oisín ...   \n",
       "7537  Alessandro Pepe  Leone Frisa, Paolo Vaccarino, Francesco Miglio...   \n",
       "\n",
       "           country        date_added  release_year rating  duration  \\\n",
       "5989  missing data  January 26, 2017          2017    NaN    37 min   \n",
       "6827         Japan  December 1, 2016          2013    NaN  1 Season   \n",
       "7312     Australia  February 1, 2018          2015    NaN  1 Season   \n",
       "7537         Italy     March 1, 2017          2015    NaN   115 min   \n",
       "\n",
       "                                 listed_in  \\\n",
       "5989                                Movies   \n",
       "6827  Anime Series, International TV Shows   \n",
       "7312                 Kids' TV, TV Comedies   \n",
       "7537                                Dramas   \n",
       "\n",
       "                                            description  \n",
       "5989  Oprah Winfrey sits down with director Ava DuVe...  \n",
       "6827  After falling through a wormhole, a space-dwel...  \n",
       "7312  Adopting a child's perspective, this show take...  \n",
       "7537  Amid the chaos and horror of World War II, a c...  "
      ]
     },
     "execution_count": 7,
     "metadata": {},
     "output_type": "execute_result"
    }
   ],
   "source": [
    "dataset.iloc[np.where(dataset.rating.isna())]"
   ]
  },
  {
   "cell_type": "code",
   "execution_count": 8,
   "id": "c5df9e5a-5594-4cad-bc8e-08eeaa9e3331",
   "metadata": {
    "tags": []
   },
   "outputs": [],
   "source": [
    "dataset.rating.iloc[np.where(dataset.rating.isna())] = \"missing data\""
   ]
  },
  {
   "cell_type": "code",
   "execution_count": 9,
   "id": "eac821ae-0402-49c8-bf82-f116ed3b3886",
   "metadata": {
    "tags": []
   },
   "outputs": [
    {
     "data": {
      "text/html": [
       "<div>\n",
       "<style scoped>\n",
       "    .dataframe tbody tr th:only-of-type {\n",
       "        vertical-align: middle;\n",
       "    }\n",
       "\n",
       "    .dataframe tbody tr th {\n",
       "        vertical-align: top;\n",
       "    }\n",
       "\n",
       "    .dataframe thead th {\n",
       "        text-align: right;\n",
       "    }\n",
       "</style>\n",
       "<table border=\"1\" class=\"dataframe\">\n",
       "  <thead>\n",
       "    <tr style=\"text-align: right;\">\n",
       "      <th></th>\n",
       "      <th>show_id</th>\n",
       "      <th>type</th>\n",
       "      <th>title</th>\n",
       "      <th>director</th>\n",
       "      <th>cast</th>\n",
       "      <th>country</th>\n",
       "      <th>date_added</th>\n",
       "      <th>release_year</th>\n",
       "      <th>rating</th>\n",
       "      <th>duration</th>\n",
       "      <th>listed_in</th>\n",
       "      <th>description</th>\n",
       "    </tr>\n",
       "  </thead>\n",
       "  <tbody>\n",
       "    <tr>\n",
       "      <th>5541</th>\n",
       "      <td>s5542</td>\n",
       "      <td>Movie</td>\n",
       "      <td>Louis C.K. 2017</td>\n",
       "      <td>Louis C.K.</td>\n",
       "      <td>Louis C.K.</td>\n",
       "      <td>United States</td>\n",
       "      <td>April 4, 2017</td>\n",
       "      <td>2017</td>\n",
       "      <td>74 min</td>\n",
       "      <td>NaN</td>\n",
       "      <td>Movies</td>\n",
       "      <td>Louis C.K. muses on religion, eternal love, gi...</td>\n",
       "    </tr>\n",
       "    <tr>\n",
       "      <th>5794</th>\n",
       "      <td>s5795</td>\n",
       "      <td>Movie</td>\n",
       "      <td>Louis C.K.: Hilarious</td>\n",
       "      <td>Louis C.K.</td>\n",
       "      <td>Louis C.K.</td>\n",
       "      <td>United States</td>\n",
       "      <td>September 16, 2016</td>\n",
       "      <td>2010</td>\n",
       "      <td>84 min</td>\n",
       "      <td>NaN</td>\n",
       "      <td>Movies</td>\n",
       "      <td>Emmy-winning comedy writer Louis C.K. brings h...</td>\n",
       "    </tr>\n",
       "    <tr>\n",
       "      <th>5813</th>\n",
       "      <td>s5814</td>\n",
       "      <td>Movie</td>\n",
       "      <td>Louis C.K.: Live at the Comedy Store</td>\n",
       "      <td>Louis C.K.</td>\n",
       "      <td>Louis C.K.</td>\n",
       "      <td>United States</td>\n",
       "      <td>August 15, 2016</td>\n",
       "      <td>2015</td>\n",
       "      <td>66 min</td>\n",
       "      <td>NaN</td>\n",
       "      <td>Movies</td>\n",
       "      <td>The comic puts his trademark hilarious/thought...</td>\n",
       "    </tr>\n",
       "  </tbody>\n",
       "</table>\n",
       "</div>"
      ],
      "text/plain": [
       "     show_id   type                                 title    director  \\\n",
       "5541   s5542  Movie                       Louis C.K. 2017  Louis C.K.   \n",
       "5794   s5795  Movie                 Louis C.K.: Hilarious  Louis C.K.   \n",
       "5813   s5814  Movie  Louis C.K.: Live at the Comedy Store  Louis C.K.   \n",
       "\n",
       "            cast        country          date_added  release_year  rating  \\\n",
       "5541  Louis C.K.  United States       April 4, 2017          2017  74 min   \n",
       "5794  Louis C.K.  United States  September 16, 2016          2010  84 min   \n",
       "5813  Louis C.K.  United States     August 15, 2016          2015  66 min   \n",
       "\n",
       "     duration listed_in                                        description  \n",
       "5541      NaN    Movies  Louis C.K. muses on religion, eternal love, gi...  \n",
       "5794      NaN    Movies  Emmy-winning comedy writer Louis C.K. brings h...  \n",
       "5813      NaN    Movies  The comic puts his trademark hilarious/thought...  "
      ]
     },
     "execution_count": 9,
     "metadata": {},
     "output_type": "execute_result"
    }
   ],
   "source": [
    "dataset.iloc[np.where(dataset.duration.isna())]"
   ]
  },
  {
   "cell_type": "markdown",
   "id": "a1e8e6b6-55fc-4d7e-8972-af0305937bc7",
   "metadata": {},
   "source": [
    "Looking at the missing duration data, we can quickly tell that the missing `duration` data actually exists in the `rating` column. \n",
    "\n",
    "To fix this, replace the missing data in these three `duration` cells with the correct data, then set the wrongful `rating` data as missing."
   ]
  },
  {
   "cell_type": "code",
   "execution_count": 10,
   "id": "48339bb6-c04b-44e6-8cbc-fe7007f0b38d",
   "metadata": {
    "tags": []
   },
   "outputs": [],
   "source": [
    "dataset.duration.iloc[np.where(dataset.duration.isna())] = \\\n",
    "dataset.rating.iloc[np.where(dataset.duration.isna())]"
   ]
  },
  {
   "cell_type": "code",
   "execution_count": 11,
   "id": "f6aee679-becd-4c38-96f3-bc3933be3c5c",
   "metadata": {
    "tags": []
   },
   "outputs": [],
   "source": [
    "dataset.rating.iloc[[5541, 5794, 5813]] = \"missing value\""
   ]
  },
  {
   "cell_type": "code",
   "execution_count": 12,
   "id": "cb35953a-c7df-4930-a9e2-f819ddcb8c37",
   "metadata": {
    "tags": []
   },
   "outputs": [
    {
     "data": {
      "text/plain": [
       "show_id         0\n",
       "type            0\n",
       "title           0\n",
       "director        0\n",
       "cast            0\n",
       "country         0\n",
       "date_added      0\n",
       "release_year    0\n",
       "rating          0\n",
       "duration        0\n",
       "listed_in       0\n",
       "description     0\n",
       "dtype: int64"
      ]
     },
     "execution_count": 12,
     "metadata": {},
     "output_type": "execute_result"
    }
   ],
   "source": [
    "dataset.isnull().sum()"
   ]
  },
  {
   "cell_type": "markdown",
   "id": "f7159991-fdfd-4aa4-a2ac-d54364b501fc",
   "metadata": {},
   "source": [
    "Now that we've cleared up our data for missing values, we're ready to start analyzing our dataset. "
   ]
  },
  {
   "cell_type": "markdown",
   "id": "d1d6dd3b-691c-43b6-af38-e68259995d94",
   "metadata": {},
   "source": [
    "## Productions by country\n",
    "Beginning our analysis, we look into the `country` column to find at the frequency of productions by country."
   ]
  },
  {
   "cell_type": "code",
   "execution_count": 13,
   "id": "7ebc28a0-be3f-41b8-95ad-2be3c4f013b2",
   "metadata": {
    "tags": []
   },
   "outputs": [
    {
     "data": {
      "text/plain": [
       "United States                             2818\n",
       "India                                      972\n",
       "missing data                               831\n",
       "United Kingdom                             419\n",
       "Japan                                      245\n",
       "                                          ... \n",
       "Romania, Bulgaria, Hungary                   1\n",
       "Uruguay, Guatemala                           1\n",
       "France, Senegal, Belgium                     1\n",
       "Mexico, United States, Spain, Colombia       1\n",
       "United Arab Emirates, Jordan                 1\n",
       "Name: country, Length: 749, dtype: int64"
      ]
     },
     "execution_count": 13,
     "metadata": {},
     "output_type": "execute_result"
    }
   ],
   "source": [
    "dataset.country.value_counts()"
   ]
  },
  {
   "cell_type": "markdown",
   "id": "d44ef14d-8b41-4a13-9e4f-54df5a0d6a45",
   "metadata": {},
   "source": [
    "Checking for unique values, we see that there is a very large quantity of unique values, one much greater than the total number of countries. This makes it tricky to immediately assess productions by country. \n",
    "\n",
    "Seeing as the different countries of production are separated by commas, we'll have to split by the comma symbol, then summarize the result by the number of occurances."
   ]
  },
  {
   "cell_type": "code",
   "execution_count": 14,
   "id": "896c9bb6-751c-4cf2-a653-94fd23520f53",
   "metadata": {
    "tags": []
   },
   "outputs": [
    {
     "data": {
      "text/plain": [
       "'United States           3689.0\\nIndia                   1046.0\\nmissing data             831.0\\nUnited Kingdom           804.0\\nCanada                   445.0\\nFrance                   393.0\\nJapan                    318.0\\nSpain                    232.0\\nSouth Korea              231.0\\nGermany                  226.0\\nMexico                   169.0\\nChina                    162.0\\nAustralia                160.0\\nEgypt                    117.0\\nTurkey                   113.0\\nHong Kong                105.0\\nNigeria                  103.0\\nItaly                    100.0\\nBrazil                    97.0\\nArgentina                 91.0\\nBelgium                   90.0\\nIndonesia                 90.0\\nTaiwan                    89.0\\nPhilippines               83.0\\nThailand                  70.0\\nSouth Africa              62.0\\nColombia                  52.0\\nNetherlands               50.0\\nDenmark                   48.0\\nIreland                   46.0\\nSweden                    42.0\\nSingapore                 41.0\\nPoland                    40.0\\nUnited Arab Emirates      37.0\\nNew Zealand               33.0\\nLebanon                   31.0\\nNorway                    30.0\\nIsrael                    30.0\\nChile                     29.0\\nRussia                    27.0\\nMalaysia                  26.0\\nPakistan                  24.0\\nCzech Republic            22.0\\nSwitzerland               19.0\\nRomania                   14.0\\nUruguay                   14.0\\nSaudi Arabia              13.0\\nAustria                   12.0\\nLuxembourg                12.0\\nIceland                   11.0\\nGreece                    11.0\\nFinland                   11.0\\nHungary                   11.0\\nQatar                     10.0\\nPeru                      10.0\\nBulgaria                  10.0\\nJordan                     9.0\\nKuwait                     8.0\\nSerbia                     7.0\\nVietnam                    7.0\\nKenya                      6.0\\nPortugal                   6.0\\nMorocco                    6.0\\nWest Germany               5.0\\nGhana                      5.0\\nCambodia                   5.0\\nCroatia                    4.0\\nIran                       4.0\\nVenezuela                  4.0\\nBangladesh                 4.0\\nMalta                      3.0\\nSenegal                    3.0\\nAlgeria                    3.0\\nSoviet Union               3.0\\nSlovenia                   3.0\\nZimbabwe                   3.0\\nSyria                      3.0\\nUkraine                    3.0\\nIraq                       2.0\\nGuatemala                  2.0\\nGeorgia                    2.0\\nNepal                      2.0\\nMauritius                  2.0\\n                           2.0\\nNamibia                    2.0\\nCayman Islands             2.0\\nUnited Kingdom,            2.0\\nLithuania                  1.0\\nCuba                       1.0\\nNicaragua                  1.0\\nPoland,                    1.0\\nUganda                     1.0\\nDominican Republic         1.0\\nLatvia                     1.0\\nEast Germany               1.0\\nAzerbaijan                 1.0\\nSamoa                      1.0\\nAfghanistan                1.0\\nPanama                     1.0\\nBotswana                   1.0\\nVatican City               1.0\\nSudan                      1.0\\nJamaica                    1.0\\nSomalia                    1.0\\nKazakhstan                 1.0\\nLiechtenstein              1.0\\nPalestine                  1.0\\nSri Lanka                  1.0\\nCyprus                     1.0\\nBurkina Faso               1.0\\nEthiopia                   1.0\\nCameroon                   1.0\\nAngola                     1.0\\nMozambique                 1.0\\nCambodia,                  1.0\\nBelarus                    1.0\\nPuerto Rico                1.0\\nMalawi                     1.0\\nBahamas                    1.0\\nParaguay                   1.0\\nUnited States,             1.0\\nAlbania                    1.0\\nSlovakia                   1.0\\nBermuda                    1.0\\nEcuador                    1.0\\nArmenia                    1.0\\nMongolia                   1.0\\nMontenegro                 1.0'"
      ]
     },
     "execution_count": 14,
     "metadata": {},
     "output_type": "execute_result"
    }
   ],
   "source": [
    "countries_sorted = dataset.country.apply(lambda x: pd.value_counts(x.split(\", \"))).sum()\n",
    "\n",
    "countries_sorted.sort_values(ascending=False).to_string()"
   ]
  },
  {
   "cell_type": "markdown",
   "id": "a317baf4-71fa-406d-871a-3c7ef3367eac",
   "metadata": {},
   "source": [
    "Looping over our countries column with a lambda function that splits every element at the position of `, ` we can tell we've still got a few errors in our now greatly reduced number of results.\n",
    "\n",
    "To fix this, we try reworking our lambda function, so that it first turns every **comma + space** value into just a comma, before splitting at the comma value."
   ]
  },
  {
   "cell_type": "code",
   "execution_count": 15,
   "id": "5855cff3-2c9f-4dc9-8a1a-c8772847df13",
   "metadata": {},
   "outputs": [
    {
     "data": {
      "text/plain": [
       "United States           3690.0\n",
       "India                   1046.0\n",
       "missing data             831.0\n",
       "United Kingdom           806.0\n",
       "Canada                   445.0\n",
       "France                   393.0\n",
       "Japan                    318.0\n",
       "Spain                    232.0\n",
       "South Korea              231.0\n",
       "Germany                  226.0\n",
       "Mexico                   169.0\n",
       "China                    162.0\n",
       "Australia                160.0\n",
       "Egypt                    117.0\n",
       "Turkey                   113.0\n",
       "Hong Kong                105.0\n",
       "Nigeria                  103.0\n",
       "Italy                    100.0\n",
       "Brazil                    97.0\n",
       "Argentina                 91.0\n",
       "Belgium                   90.0\n",
       "Indonesia                 90.0\n",
       "Taiwan                    89.0\n",
       "Philippines               83.0\n",
       "Thailand                  70.0\n",
       "South Africa              62.0\n",
       "Colombia                  52.0\n",
       "Netherlands               50.0\n",
       "Denmark                   48.0\n",
       "Ireland                   46.0\n",
       "Sweden                    42.0\n",
       "Poland                    41.0\n",
       "Singapore                 41.0\n",
       "United Arab Emirates      37.0\n",
       "New Zealand               33.0\n",
       "Lebanon                   31.0\n",
       "Norway                    30.0\n",
       "Israel                    30.0\n",
       "Chile                     29.0\n",
       "Russia                    27.0\n",
       "Malaysia                  26.0\n",
       "Pakistan                  24.0\n",
       "Czech Republic            22.0\n",
       "Switzerland               19.0\n",
       "Uruguay                   14.0\n",
       "Romania                   14.0\n",
       "Saudi Arabia              13.0\n",
       "Luxembourg                12.0\n",
       "Austria                   12.0\n",
       "Finland                   11.0\n",
       "Iceland                   11.0\n",
       "Hungary                   11.0\n",
       "Greece                    11.0\n",
       "Peru                      10.0\n",
       "Bulgaria                  10.0\n",
       "Qatar                     10.0\n",
       "Jordan                     9.0\n",
       "Kuwait                     8.0\n",
       "Vietnam                    7.0\n",
       "Serbia                     7.0\n",
       "                           7.0\n",
       "Cambodia                   6.0\n",
       "Kenya                      6.0\n",
       "Portugal                   6.0\n",
       "Morocco                    6.0\n",
       "West Germany               5.0\n",
       "Ghana                      5.0\n",
       "Bangladesh                 4.0\n",
       "Venezuela                  4.0\n",
       "Iran                       4.0\n",
       "Croatia                    4.0\n",
       "Zimbabwe                   3.0\n",
       "Soviet Union               3.0\n",
       "Senegal                    3.0\n",
       "Ukraine                    3.0\n",
       "Malta                      3.0\n",
       "Algeria                    3.0\n",
       "Syria                      3.0\n",
       "Slovenia                   3.0\n",
       "Georgia                    2.0\n",
       "Guatemala                  2.0\n",
       "Iraq                       2.0\n",
       "Nepal                      2.0\n",
       "Namibia                    2.0\n",
       "Cayman Islands             2.0\n",
       "Mauritius                  2.0\n",
       "Puerto Rico                1.0\n",
       "Jamaica                    1.0\n",
       "Nicaragua                  1.0\n",
       "Dominican Republic         1.0\n",
       "Samoa                      1.0\n",
       "Azerbaijan                 1.0\n",
       "Botswana                   1.0\n",
       "Vatican City               1.0\n",
       "Kazakhstan                 1.0\n",
       "Liechtenstein              1.0\n",
       "Lithuania                  1.0\n",
       "Afghanistan                1.0\n",
       "Somalia                    1.0\n",
       "Sudan                      1.0\n",
       "Panama                     1.0\n",
       "Uganda                     1.0\n",
       "East Germany               1.0\n",
       "Cuba                       1.0\n",
       "Sri Lanka                  1.0\n",
       "Latvia                     1.0\n",
       "Ethiopia                   1.0\n",
       "Cyprus                     1.0\n",
       "Mozambique                 1.0\n",
       "Angola                     1.0\n",
       "Malawi                     1.0\n",
       "Paraguay                   1.0\n",
       "Burkina Faso               1.0\n",
       "Albania                    1.0\n",
       "Palestine                  1.0\n",
       "Belarus                    1.0\n",
       "Cameroon                   1.0\n",
       "Slovakia                   1.0\n",
       "Bermuda                    1.0\n",
       "Ecuador                    1.0\n",
       "Armenia                    1.0\n",
       "Mongolia                   1.0\n",
       "Bahamas                    1.0\n",
       "Montenegro                 1.0\n",
       "dtype: float64"
      ]
     },
     "execution_count": 15,
     "metadata": {},
     "output_type": "execute_result"
    }
   ],
   "source": [
    "countries_sorted = dataset.country.apply(lambda x: pd.value_counts(x.replace(\", \", \",\").split(\",\"))).sum()\n",
    "\n",
    "pd.set_option('display.max_rows', 200)\n",
    "countries_sorted.sort_values(ascending=False)"
   ]
  },
  {
   "cell_type": "markdown",
   "id": "ab627c60-f019-468b-871b-76061b3cb008",
   "metadata": {},
   "source": [
    "While we now separated all values by comma, and managed to remove commas at the end, we still have two more results to get rid of, one consisting of empty values, and one of the missing data label we gave to empty cells prior."
   ]
  },
  {
   "cell_type": "code",
   "execution_count": 16,
   "id": "a76940de-53f0-478f-b939-befd259273e4",
   "metadata": {
    "tags": []
   },
   "outputs": [
    {
     "data": {
      "text/plain": [
       "United States           3690.0\n",
       "India                   1046.0\n",
       "United Kingdom           806.0\n",
       "Canada                   445.0\n",
       "France                   393.0\n",
       "Japan                    318.0\n",
       "Spain                    232.0\n",
       "South Korea              231.0\n",
       "Germany                  226.0\n",
       "Mexico                   169.0\n",
       "China                    162.0\n",
       "Australia                160.0\n",
       "Egypt                    117.0\n",
       "Turkey                   113.0\n",
       "Hong Kong                105.0\n",
       "Nigeria                  103.0\n",
       "Italy                    100.0\n",
       "Brazil                    97.0\n",
       "Argentina                 91.0\n",
       "Belgium                   90.0\n",
       "Indonesia                 90.0\n",
       "Taiwan                    89.0\n",
       "Philippines               83.0\n",
       "Thailand                  70.0\n",
       "South Africa              62.0\n",
       "Colombia                  52.0\n",
       "Netherlands               50.0\n",
       "Denmark                   48.0\n",
       "Ireland                   46.0\n",
       "Sweden                    42.0\n",
       "Poland                    41.0\n",
       "Singapore                 41.0\n",
       "United Arab Emirates      37.0\n",
       "New Zealand               33.0\n",
       "Lebanon                   31.0\n",
       "Israel                    30.0\n",
       "Norway                    30.0\n",
       "Chile                     29.0\n",
       "Russia                    27.0\n",
       "Malaysia                  26.0\n",
       "Pakistan                  24.0\n",
       "Czech Republic            22.0\n",
       "Switzerland               19.0\n",
       "Uruguay                   14.0\n",
       "Romania                   14.0\n",
       "Saudi Arabia              13.0\n",
       "Austria                   12.0\n",
       "Luxembourg                12.0\n",
       "Hungary                   11.0\n",
       "Greece                    11.0\n",
       "Iceland                   11.0\n",
       "Finland                   11.0\n",
       "Peru                      10.0\n",
       "Qatar                     10.0\n",
       "Bulgaria                  10.0\n",
       "Jordan                     9.0\n",
       "Kuwait                     8.0\n",
       "Vietnam                    7.0\n",
       "Serbia                     7.0\n",
       "Portugal                   6.0\n",
       "Kenya                      6.0\n",
       "Morocco                    6.0\n",
       "Cambodia                   6.0\n",
       "West Germany               5.0\n",
       "Ghana                      5.0\n",
       "Venezuela                  4.0\n",
       "Croatia                    4.0\n",
       "Bangladesh                 4.0\n",
       "Iran                       4.0\n",
       "Soviet Union               3.0\n",
       "Syria                      3.0\n",
       "Senegal                    3.0\n",
       "Ukraine                    3.0\n",
       "Malta                      3.0\n",
       "Zimbabwe                   3.0\n",
       "Algeria                    3.0\n",
       "Slovenia                   3.0\n",
       "Guatemala                  2.0\n",
       "Namibia                    2.0\n",
       "Mauritius                  2.0\n",
       "Cayman Islands             2.0\n",
       "Georgia                    2.0\n",
       "Nepal                      2.0\n",
       "Iraq                       2.0\n",
       "Cuba                       1.0\n",
       "Dominican Republic         1.0\n",
       "Azerbaijan                 1.0\n",
       "Samoa                      1.0\n",
       "Nicaragua                  1.0\n",
       "Uganda                     1.0\n",
       "Sudan                      1.0\n",
       "Botswana                   1.0\n",
       "Vatican City               1.0\n",
       "Jamaica                    1.0\n",
       "Kazakhstan                 1.0\n",
       "Lithuania                  1.0\n",
       "Afghanistan                1.0\n",
       "Somalia                    1.0\n",
       "Panama                     1.0\n",
       "East Germany               1.0\n",
       "Latvia                     1.0\n",
       "Liechtenstein              1.0\n",
       "Cameroon                   1.0\n",
       "Sri Lanka                  1.0\n",
       "Cyprus                     1.0\n",
       "Burkina Faso               1.0\n",
       "Ethiopia                   1.0\n",
       "Palestine                  1.0\n",
       "Angola                     1.0\n",
       "Mozambique                 1.0\n",
       "Belarus                    1.0\n",
       "Puerto Rico                1.0\n",
       "Malawi                     1.0\n",
       "Bahamas                    1.0\n",
       "Paraguay                   1.0\n",
       "Albania                    1.0\n",
       "Slovakia                   1.0\n",
       "Bermuda                    1.0\n",
       "Ecuador                    1.0\n",
       "Armenia                    1.0\n",
       "Mongolia                   1.0\n",
       "Montenegro                 1.0\n",
       "dtype: float64"
      ]
     },
     "execution_count": 16,
     "metadata": {},
     "output_type": "execute_result"
    }
   ],
   "source": [
    "countries_sorted = countries_sorted.drop(labels=[\"\", \"missing data\"])\n",
    "countries_sorted.sort_values(ascending=False)"
   ]
  },
  {
   "cell_type": "markdown",
   "id": "9a6fdcea-2423-49af-bef8-c8f2e19360a7",
   "metadata": {},
   "source": [
    "With that, our `countries` column should be ready for further investigation"
   ]
  },
  {
   "cell_type": "markdown",
   "id": "56343a40-0726-4946-84f8-566ef610a856",
   "metadata": {},
   "source": [
    "### Visualizing the country data\n",
    "\n",
    "We begin by visualizing by quantity, in order to gain a better understanding of the difference between the most popular production countries."
   ]
  },
  {
   "cell_type": "code",
   "execution_count": 19,
   "id": "48ab6b4c-1162-4e58-b41e-c2d02099c798",
   "metadata": {
    "tags": []
   },
   "outputs": [
    {
     "data": {
      "image/png": "[encoded data removed]",
      "text/plain": [
       "<Figure size 640x480 with 1 Axes>"
      ]
     },
     "metadata": {},
     "output_type": "display_data"
    }
   ],
   "source": [
    "top_countries = countries_sorted.nlargest(n=10, keep=\"first\")\n",
    "plt.barh( top_countries.index, top_countries)\n",
    "plt.gca().invert_yaxis()"
   ]
  },
  {
   "cell_type": "code",
   "execution_count": 21,
   "id": "eddd29b9-afaa-4d3d-ad6a-9604ccd0d93f",
   "metadata": {
    "tags": []
   },
   "outputs": [
    {
     "name": "stdout",
     "output_type": "stream",
     "text": [
      "<class 'pandas.core.series.Series'>\n",
      "Index: 122 entries, United States to Montenegro\n",
      "Series name: None\n",
      "Non-Null Count  Dtype  \n",
      "--------------  -----  \n",
      "122 non-null    float64\n",
      "dtypes: float64(1)\n",
      "memory usage: 6.0+ KB\n"
     ]
    }
   ],
   "source": [
    "countries_sorted.info()"
   ]
  },
  {
   "cell_type": "markdown",
   "id": "a6f56edb-a9c6-4b85-8299-4b27cadaaf4a",
   "metadata": {},
   "source": [
    "With there being as many as *122* different countries to work with, only looking at the top 10 leaves out a lot of data that could prove meaningful later.\n",
    "\n",
    "To counteract this, we will sort our results into `bins` based on the number of productions to give a more wholesome overview of the data in its entirety."
   ]
  },
  {
   "cell_type": "code",
   "execution_count": 23,
   "id": "e92db176-db40-47c9-b2ef-4ee497be9381",
   "metadata": {
    "tags": []
   },
   "outputs": [
    {
     "data": {
      "text/plain": [
       "1          38\n",
       "2-10       32\n",
       "11-100     36\n",
       "101-250    10\n",
       "251-500     3\n",
       "501+        3\n",
       "dtype: int64"
      ]
     },
     "execution_count": 23,
     "metadata": {},
     "output_type": "execute_result"
    }
   ],
   "source": [
    "freq_bins = [0, 1, 10, 100, 250, 500, 3690]\n",
    "bins_text = [\"1\", \"2-10\", \"11-100\", \"101-250\", \"251-500\", \"501+\"]\n",
    "bin_categories = pd.cut(countries_sorted, freq_bins, labels=bins_text)\n",
    "bin_viz = pd.value_counts(bin_categories).sort_index(ascending=True)\n",
    "\n",
    "bin_viz"
   ]
  },
  {
   "cell_type": "markdown",
   "id": "3a992c88-6831-4f0e-91ca-09ea3e68bede",
   "metadata": {},
   "source": [
    "With this, we can improve on our initial bar chart visualization, and blend it into a visualization of quantities by bin size, to give a better understanding of the data as a whole."
   ]
  },
  {
   "cell_type": "code",
   "execution_count": 98,
   "id": "8c92973f-60ab-4447-bc1a-b9044e84dd36",
   "metadata": {
    "tags": []
   },
   "outputs": [
    {
     "data": {
      "image/png": "[encoded data removed]",
      "text/plain": [
       "<Figure size 640x480 with 2 Axes>"
      ]
     },
     "metadata": {},
     "output_type": "display_data"
    }
   ],
   "source": [
    "fig = plt.figure()\n",
    "fig.suptitle(\"Production data for shows and movies on Netflix\", fontsize=\"14\")\n",
    "ax1 = fig.add_subplot(2, 2, 1)\n",
    "ax2 = fig.add_subplot(2, 2, 2)\n",
    "ax1.barh(bins_text, bin_viz)\n",
    "ax1.set_xlabel(\"Number of countries by productions\", fontsize=\"12\")\n",
    "\n",
    "top_countries = countries_sorted.nlargest(n=5, keep=\"first\")\n",
    "ax2.barh(top_countries.index, top_countries, color=\"lightblue\")\n",
    "ax2.set_xlabel(\"Productions\", fontsize=\"12\")\n",
    "ax2.invert_yaxis()\n",
    "ax2.tick_params()\n",
    "ax2.yaxis.tick_right()\n",
    "\n",
    "plt.show()"
   ]
  },
  {
   "cell_type": "markdown",
   "id": "ad82e3d0-8d62-4e15-977f-e16b3ed470ea",
   "metadata": {},
   "source": []
  }
 ],
 "metadata": {
  "kernelspec": {
   "display_name": "Python 3 (ipykernel)",
   "language": "python",
   "name": "python3"
  },
  "language_info": {
   "codemirror_mode": {
    "name": "ipython",
    "version": 3
   },
   "file_extension": ".py",
   "mimetype": "text/x-python",
   "name": "python",
   "nbconvert_exporter": "python",
   "pygments_lexer": "ipython3",
   "version": "3.10.9"
  }
 },
 "nbformat": 4,
 "nbformat_minor": 5
}
